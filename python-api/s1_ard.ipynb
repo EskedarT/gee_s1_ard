{
 "cells": [
  {
   "cell_type": "code",
   "execution_count": 1,
   "metadata": {
    "colab": {
     "base_uri": "https://localhost:8080/"
    },
    "executionInfo": {
     "elapsed": 13907,
     "status": "ok",
     "timestamp": 1615196282769,
     "user": {
      "displayName": "Adugna G. Mullissa",
      "photoUrl": "https://lh3.googleusercontent.com/a-/AOh14GizM8WNU9dkGjLitXmBvR6R_xHNiGRdNfv6Ma45mg=s64",
      "userId": "04980481190829021888"
     },
     "user_tz": -60
    },
    "id": "kRvv5sNBuOpt",
    "outputId": "64716ef8-adab-4477-b3d8-196ec51ec749"
   },
   "outputs": [
    {
     "name": "stdout",
     "output_type": "stream",
     "text": [
      "To authorize access needed by Earth Engine, open the following URL in a web browser and follow the instructions. If the web browser does not start automatically, please manually browse the URL below.\n",
      "\n",
      "    https://accounts.google.com/o/oauth2/auth?client_id=517222506229-vsmmajv00ul0bs7p89v5m89qs8eb9359.apps.googleusercontent.com&scope=https%3A%2F%2Fwww.googleapis.com%2Fauth%2Fearthengine+https%3A%2F%2Fwww.googleapis.com%2Fauth%2Fdevstorage.full_control&redirect_uri=urn%3Aietf%3Awg%3Aoauth%3A2.0%3Aoob&response_type=code&code_challenge=EzBaSeNfpGPABgJc5pzuHzRd9Gs7mzEiv_GtLenZCRE&code_challenge_method=S256\n",
      "\n",
      "The authorization workflow will generate a code, which you should paste in the box below. \n",
      "Enter verification code: 4/1AY0e-g5tt_u4aZStMvIz0KYEMfZsI9DYsw5eXIkVmjTFTVgs-cDZVP4d8Ys\n",
      "\n",
      "Successfully saved authorization token.\n"
     ]
    }
   ],
   "source": [
    "import ee\n",
    "ee.Authenticate()\n",
    "ee.Initialize()"
   ]
  },
  {
   "cell_type": "code",
   "execution_count": 2,
   "metadata": {
    "colab": {
     "base_uri": "https://localhost:8080/"
    },
    "executionInfo": {
     "elapsed": 499,
     "status": "ok",
     "timestamp": 1615196284993,
     "user": {
      "displayName": "Adugna G. Mullissa",
      "photoUrl": "https://lh3.googleusercontent.com/a-/AOh14GizM8WNU9dkGjLitXmBvR6R_xHNiGRdNfv6Ma45mg=s64",
      "userId": "04980481190829021888"
     },
     "user_tz": -60
    },
    "id": "4yuxwnhtlySq",
    "outputId": "1c5ce60e-7fe9-4fdd-a386-e324dbb7214d"
   },
   "outputs": [
    {
     "name": "stdout",
     "output_type": "stream",
     "text": [
      "Drive already mounted at /content/drive; to attempt to forcibly remount, call drive.mount(\"/content/drive\", force_remount=True).\n"
     ]
    }
   ],
   "source": [
    "from google.colab import drive\n",
    "drive.mount('/content/drive')"
   ]
  },
  {
   "cell_type": "code",
   "execution_count": 3,
   "metadata": {
    "executionInfo": {
     "elapsed": 513,
     "status": "ok",
     "timestamp": 1615196287685,
     "user": {
      "displayName": "Adugna G. Mullissa",
      "photoUrl": "https://lh3.googleusercontent.com/a-/AOh14GizM8WNU9dkGjLitXmBvR6R_xHNiGRdNfv6Ma45mg=s64",
      "userId": "04980481190829021888"
     },
     "user_tz": -60
    },
    "id": "Slfhv7P82KZj"
   },
   "outputs": [],
   "source": [
    "import sys\n",
    "#please adjust this to your scripts path\n",
    "sys.path.insert(0,'/content/drive/My Drive/s1_ard_py')"
   ]
  },
  {
   "cell_type": "code",
   "execution_count": 4,
   "metadata": {
    "executionInfo": {
     "elapsed": 469,
     "status": "ok",
     "timestamp": 1615196290129,
     "user": {
      "displayName": "Adugna G. Mullissa",
      "photoUrl": "https://lh3.googleusercontent.com/a-/AOh14GizM8WNU9dkGjLitXmBvR6R_xHNiGRdNfv6Ma45mg=s64",
      "userId": "04980481190829021888"
     },
     "user_tz": -60
    },
    "id": "anJNLwtgugLx"
   },
   "outputs": [],
   "source": [
    "roi = ee.Geometry.Polygon(\n",
    "        [[[105.09332131790751, 11.489785285118867],\n",
    "          [105.09332131790751, 11.18278399685024],\n",
    "          [105.40917825150126, 11.18278399685024],\n",
    "          [105.40917825150126, 11.489785285118867]]])"
   ]
  },
  {
   "cell_type": "code",
   "execution_count": 9,
   "metadata": {
    "executionInfo": {
     "elapsed": 453,
     "status": "ok",
     "timestamp": 1615196376163,
     "user": {
      "displayName": "Adugna G. Mullissa",
      "photoUrl": "https://lh3.googleusercontent.com/a-/AOh14GizM8WNU9dkGjLitXmBvR6R_xHNiGRdNfv6Ma45mg=s64",
      "userId": "04980481190829021888"
     },
     "user_tz": -60
    },
    "id": "b_R2Mm-TupBR"
   },
   "outputs": [],
   "source": [
    "params = {  'START_DATE': '2018-01-01', \n",
    "            'STOP_DATE': '2018-01-15',        \n",
    "            'ORBIT': 'DESCENDING',\n",
    "            'POLARIZATION': 'VVVH',\n",
    "            'ROI': roi,\n",
    "            'DEM': ee.Image('USGS/SRTMGL1_003'),\n",
    "            'APPLY_BORDER_NOISE_CORRECTION': False,\n",
    "            'APPLY_TERRAIN_FLATTENING': True,\n",
    "            'TERRAIN_FLATTENING_MODEL': 'VOLUME',\n",
    "            'TERRAIN_FLATTENING_ADDITIONAL_LAYOVER_SHADOW_BUFFER':0,\n",
    "            'APPLY_SPECKLE_FILTERING': True,\n",
    "            'SPECKLE_FILTER_FRAMEWORK':'MULTI',\n",
    "            'SPECKLE_FILTER': 'BOXCAR',\n",
    "            'SPECKLE_FILTER_KERNEL_SIZE': 7,\n",
    "            'NR_OF_IMAGES':10,\n",
    "            'FORMAT': 'DB',\n",
    "            'CLIP_TO_ROI': False,\n",
    "            'SAVE_ASSET': False, \n",
    "            'ASSET_ID': \"users/adugnagirma\"\n",
    "            }"
   ]
  },
  {
   "cell_type": "code",
   "execution_count": 10,
   "metadata": {
    "executionInfo": {
     "elapsed": 469,
     "status": "ok",
     "timestamp": 1615196379497,
     "user": {
      "displayName": "Adugna G. Mullissa",
      "photoUrl": "https://lh3.googleusercontent.com/a-/AOh14GizM8WNU9dkGjLitXmBvR6R_xHNiGRdNfv6Ma45mg=s64",
      "userId": "04980481190829021888"
     },
     "user_tz": -60
    },
    "id": "akaknSiKuqCz"
   },
   "outputs": [],
   "source": [
    "#processed s1 collection\n",
    "import wrapper as wp\n",
    "s1_processed = wp.s1_preproc(params)"
   ]
  },
  {
   "cell_type": "code",
   "execution_count": 11,
   "metadata": {
    "colab": {
     "base_uri": "https://localhost:8080/",
     "height": 1000
    },
    "executionInfo": {
     "elapsed": 874,
     "status": "ok",
     "timestamp": 1615196387431,
     "user": {
      "displayName": "Adugna G. Mullissa",
      "photoUrl": "https://lh3.googleusercontent.com/a-/AOh14GizM8WNU9dkGjLitXmBvR6R_xHNiGRdNfv6Ma45mg=s64",
      "userId": "04980481190829021888"
     },
     "user_tz": -60
    },
    "id": "z6PbcLyI5QC0",
    "outputId": "cceb6bba-3be7-4fc1-82f3-cd3736fe49f4"
   },
   "outputs": [
    {
     "data": {
      "text/html": [
       "<div style=\"width:100%;\"><div style=\"position:relative;width:100%;height:0;padding-bottom:60%;\"><span style=\"color:#565656\">Make this Notebook Trusted to load map: File -> Trust Notebook</span><iframe src=\"about:blank\" style=\"position:absolute;width:100%;height:100%;left:0;top:0;border:none !important;\" data-html=%3C%21DOCTYPE%20html%3E%0A%3Chead%3E%20%20%20%20%0A%20%20%20%20%3Cmeta%20http-equiv%3D%22content-type%22%20content%3D%22text/html%3B%20charset%3DUTF-8%22%20/%3E%0A%20%20%20%20%3Cscript%3EL_PREFER_CANVAS%3Dfalse%3B%20L_NO_TOUCH%3Dfalse%3B%20L_DISABLE_3D%3Dfalse%3B%3C/script%3E%0A%20%20%20%20%3Cscript%20src%3D%22https%3A//cdn.jsdelivr.net/npm/leaflet%401.4.0/dist/leaflet.js%22%3E%3C/script%3E%0A%20%20%20%20%3Cscript%20src%3D%22https%3A//code.jquery.com/jquery-1.12.4.min.js%22%3E%3C/script%3E%0A%20%20%20%20%3Cscript%20src%3D%22https%3A//maxcdn.bootstrapcdn.com/bootstrap/3.2.0/js/bootstrap.min.js%22%3E%3C/script%3E%0A%20%20%20%20%3Cscript%20src%3D%22https%3A//cdnjs.cloudflare.com/ajax/libs/Leaflet.awesome-markers/2.0.2/leaflet.awesome-markers.js%22%3E%3C/script%3E%0A%20%20%20%20%3Clink%20rel%3D%22stylesheet%22%20href%3D%22https%3A//cdn.jsdelivr.net/npm/leaflet%401.4.0/dist/leaflet.css%22/%3E%0A%20%20%20%20%3Clink%20rel%3D%22stylesheet%22%20href%3D%22https%3A//maxcdn.bootstrapcdn.com/bootstrap/3.2.0/css/bootstrap.min.css%22/%3E%0A%20%20%20%20%3Clink%20rel%3D%22stylesheet%22%20href%3D%22https%3A//maxcdn.bootstrapcdn.com/bootstrap/3.2.0/css/bootstrap-theme.min.css%22/%3E%0A%20%20%20%20%3Clink%20rel%3D%22stylesheet%22%20href%3D%22https%3A//maxcdn.bootstrapcdn.com/font-awesome/4.6.3/css/font-awesome.min.css%22/%3E%0A%20%20%20%20%3Clink%20rel%3D%22stylesheet%22%20href%3D%22https%3A//cdnjs.cloudflare.com/ajax/libs/Leaflet.awesome-markers/2.0.2/leaflet.awesome-markers.css%22/%3E%0A%20%20%20%20%3Clink%20rel%3D%22stylesheet%22%20href%3D%22https%3A//rawcdn.githack.com/python-visualization/folium/master/folium/templates/leaflet.awesome.rotate.css%22/%3E%0A%20%20%20%20%3Cstyle%3Ehtml%2C%20body%20%7Bwidth%3A%20100%25%3Bheight%3A%20100%25%3Bmargin%3A%200%3Bpadding%3A%200%3B%7D%3C/style%3E%0A%20%20%20%20%3Cstyle%3E%23map%20%7Bposition%3Aabsolute%3Btop%3A0%3Bbottom%3A0%3Bright%3A0%3Bleft%3A0%3B%7D%3C/style%3E%0A%20%20%20%20%0A%20%20%20%20%3Cmeta%20name%3D%22viewport%22%20content%3D%22width%3Ddevice-width%2C%0A%20%20%20%20%20%20%20%20initial-scale%3D1.0%2C%20maximum-scale%3D1.0%2C%20user-scalable%3Dno%22%20/%3E%0A%20%20%20%20%3Cstyle%3E%23map_3f323299d30547a4ad95b3cfcafb0594%20%7B%0A%20%20%20%20%20%20%20%20position%3A%20relative%3B%0A%20%20%20%20%20%20%20%20width%3A%20100.0%25%3B%0A%20%20%20%20%20%20%20%20height%3A%20100.0%25%3B%0A%20%20%20%20%20%20%20%20left%3A%200.0%25%3B%0A%20%20%20%20%20%20%20%20top%3A%200.0%25%3B%0A%20%20%20%20%20%20%20%20%7D%0A%20%20%20%20%3C/style%3E%0A%3C/head%3E%0A%3Cbody%3E%20%20%20%20%0A%20%20%20%20%0A%20%20%20%20%3Cdiv%20class%3D%22folium-map%22%20id%3D%22map_3f323299d30547a4ad95b3cfcafb0594%22%20%3E%3C/div%3E%0A%3C/body%3E%0A%3Cscript%3E%20%20%20%20%0A%20%20%20%20%0A%20%20%20%20%0A%20%20%20%20%20%20%20%20var%20bounds%20%3D%20null%3B%0A%20%20%20%20%0A%0A%20%20%20%20var%20map_3f323299d30547a4ad95b3cfcafb0594%20%3D%20L.map%28%0A%20%20%20%20%20%20%20%20%27map_3f323299d30547a4ad95b3cfcafb0594%27%2C%20%7B%0A%20%20%20%20%20%20%20%20center%3A%20%5B11.48%2C%20105.09%5D%2C%0A%20%20%20%20%20%20%20%20zoom%3A%2010%2C%0A%20%20%20%20%20%20%20%20maxBounds%3A%20bounds%2C%0A%20%20%20%20%20%20%20%20layers%3A%20%5B%5D%2C%0A%20%20%20%20%20%20%20%20worldCopyJump%3A%20false%2C%0A%20%20%20%20%20%20%20%20crs%3A%20L.CRS.EPSG3857%2C%0A%20%20%20%20%20%20%20%20zoomControl%3A%20true%2C%0A%20%20%20%20%20%20%20%20%7D%29%3B%0A%0A%0A%20%20%20%20%0A%20%20%20%20var%20tile_layer_61ecf0b291084cc9885a67a624ab3d8d%20%3D%20L.tileLayer%28%0A%20%20%20%20%20%20%20%20%27https%3A//%7Bs%7D.tile.openstreetmap.org/%7Bz%7D/%7Bx%7D/%7By%7D.png%27%2C%0A%20%20%20%20%20%20%20%20%7B%0A%20%20%20%20%20%20%20%20%22attribution%22%3A%20null%2C%0A%20%20%20%20%20%20%20%20%22detectRetina%22%3A%20false%2C%0A%20%20%20%20%20%20%20%20%22maxNativeZoom%22%3A%2018%2C%0A%20%20%20%20%20%20%20%20%22maxZoom%22%3A%2018%2C%0A%20%20%20%20%20%20%20%20%22minZoom%22%3A%200%2C%0A%20%20%20%20%20%20%20%20%22noWrap%22%3A%20false%2C%0A%20%20%20%20%20%20%20%20%22opacity%22%3A%201%2C%0A%20%20%20%20%20%20%20%20%22subdomains%22%3A%20%22abc%22%2C%0A%20%20%20%20%20%20%20%20%22tms%22%3A%20false%0A%7D%29.addTo%28map_3f323299d30547a4ad95b3cfcafb0594%29%3B%0A%20%20%20%20var%20tile_layer_0b3e4b320eee4ec19bfa901ec5e1c3eb%20%3D%20L.tileLayer%28%0A%20%20%20%20%20%20%20%20%27https%3A//earthengine.googleapis.com/v1alpha/projects/earthengine-legacy/maps/5909cbca64039f86c4b58a572b199664-c2461c72a20c154663621f52173d7a05/tiles/%7Bz%7D/%7Bx%7D/%7By%7D%27%2C%0A%20%20%20%20%20%20%20%20%7B%0A%20%20%20%20%20%20%20%20%22attribution%22%3A%20%22Map%20Data%20%26copy%3B%20%3Ca%20href%3D%5C%22https%3A//earthengine.google.com/%5C%22%3EGoogle%20Earth%20Engine%3C/a%3E%22%2C%0A%20%20%20%20%20%20%20%20%22detectRetina%22%3A%20false%2C%0A%20%20%20%20%20%20%20%20%22maxNativeZoom%22%3A%2018%2C%0A%20%20%20%20%20%20%20%20%22maxZoom%22%3A%2018%2C%0A%20%20%20%20%20%20%20%20%22minZoom%22%3A%200%2C%0A%20%20%20%20%20%20%20%20%22noWrap%22%3A%20false%2C%0A%20%20%20%20%20%20%20%20%22opacity%22%3A%201%2C%0A%20%20%20%20%20%20%20%20%22subdomains%22%3A%20%22abc%22%2C%0A%20%20%20%20%20%20%20%20%22tms%22%3A%20false%0A%7D%29.addTo%28map_3f323299d30547a4ad95b3cfcafb0594%29%3B%0A%20%20%20%20%0A%20%20%20%20%20%20%20%20%20%20%20%20var%20layer_control_940d8bcf6802469a811e66ca65cee134%20%3D%20%7B%0A%20%20%20%20%20%20%20%20%20%20%20%20%20%20%20%20base_layers%20%3A%20%7B%20%22openstreetmap%22%20%3A%20tile_layer_61ecf0b291084cc9885a67a624ab3d8d%2C%20%7D%2C%0A%20%20%20%20%20%20%20%20%20%20%20%20%20%20%20%20overlays%20%3A%20%7B%20%22Preprocessed%20S1%22%20%3A%20tile_layer_0b3e4b320eee4ec19bfa901ec5e1c3eb%2C%20%7D%0A%20%20%20%20%20%20%20%20%20%20%20%20%20%20%20%20%7D%3B%0A%20%20%20%20%20%20%20%20%20%20%20%20L.control.layers%28%0A%20%20%20%20%20%20%20%20%20%20%20%20%20%20%20%20layer_control_940d8bcf6802469a811e66ca65cee134.base_layers%2C%0A%20%20%20%20%20%20%20%20%20%20%20%20%20%20%20%20layer_control_940d8bcf6802469a811e66ca65cee134.overlays%2C%0A%20%20%20%20%20%20%20%20%20%20%20%20%20%20%20%20%7Bposition%3A%20%27topright%27%2C%0A%20%20%20%20%20%20%20%20%20%20%20%20%20%20%20%20%20collapsed%3A%20true%2C%0A%20%20%20%20%20%20%20%20%20%20%20%20%20%20%20%20%20autoZIndex%3A%20true%0A%20%20%20%20%20%20%20%20%20%20%20%20%20%20%20%20%7D%29.addTo%28map_3f323299d30547a4ad95b3cfcafb0594%29%3B%0A%20%20%20%20%20%20%20%20%20%20%20%20%0A%20%20%20%20%20%20%20%20%0A%3C/script%3E onload=\"this.contentDocument.open();this.contentDocument.write(    decodeURIComponent(this.getAttribute('data-html')));this.contentDocument.close();\" allowfullscreen webkitallowfullscreen mozallowfullscreen></iframe></div></div>"
      ],
      "text/plain": [
       "<folium.folium.Map at 0x7fd62fee6490>"
      ]
     },
     "execution_count": 11,
     "metadata": {
      "tags": []
     },
     "output_type": "execute_result"
    }
   ],
   "source": [
    "#Visualize\n",
    "import folium\n",
    "import helper\n",
    "if (params['POLARIZATION']=='VVVH'):\n",
    "    if (params['FORMAT'] == 'DB'):\n",
    "      s1_preprocces_view = s1_processed.map(helper.add_ratio_lin).map(helper.lin_to_db2);\n",
    "      #s1_view = s1.map(helper.add_ratio_lin).map(helper.lin_to_db2);\n",
    "      visparam = {'bands':['VV', 'VH','VVVH_ratio'],'min': [-20, -25, 1],'max': [0, -5, 15]}\n",
    "if (params['POLARIZATION']=='VVVH'):\n",
    "    if (params['FORMAT'] == 'LINEAR'):\n",
    "      s1_preprocces_view = s1_processed.map(helper.add_ratio_lin)\n",
    "      #s1_view = s1.map(helper.add_ratio_lin)\n",
    "      visparam = {'bands':['VV', 'VH','VVVH_ratio'],'min': [0, 0, 0],'max': [0.5, 0.5, 20]}\n",
    "if (params['POLARIZATION']!='VVVH'):\n",
    "    if (params['FORMAT'] == 'DB'):\n",
    "      s1_preprocces_view = s1_processed.map(helper.lin_to_db)\n",
    "      #s1_view = s1.map(helper.lin_to_db)\n",
    "      visparam = {'bands':params['POLARIZATION'],'min': -25,'max': 0}\n",
    "if (params['POLARIZATION']!='VVVH'):\n",
    "    if (params['FORMAT'] == 'LINEAR'):\n",
    "      s1_preprocces_view = s1_processed;\n",
    "      #s1_view = s1;\n",
    "      visparam = {'bands':params['POLARIZATION'],'min': 0,'max': 0.2}\n",
    "\n",
    "# Use folium to visualize the imagery.\n",
    "s1_processed_mapid = s1_preprocces_view.first().getMapId(visparam)\n",
    "#s1_mapid = s1_view.first().getMapId(visparam)\n",
    "map = folium.Map(location=[11.48, 105.09])\n",
    "\n",
    "folium.TileLayer(\n",
    "    tiles=s1_processed_mapid['tile_fetcher'].url_format,\n",
    "    attr='Map Data &copy; <a href=\"https://earthengine.google.com/\">Google Earth Engine</a>',\n",
    "    overlay=True,\n",
    "    name='Preprocessed S1',\n",
    "  ).add_to(map)\n",
    "map.add_child(folium.LayerControl())\n",
    "map\n"
   ]
  }
 ],
 "metadata": {
  "colab": {
   "authorship_tag": "ABX9TyPEDWkrCKVQroZXirv2eqoI",
   "collapsed_sections": [],
   "name": "s1_ard.ipynb",
   "provenance": []
  },
  "kernelspec": {
   "display_name": "Python 3",
   "language": "python",
   "name": "python3"
  },
  "language_info": {
   "codemirror_mode": {
    "name": "ipython",
    "version": 3
   },
   "file_extension": ".py",
   "mimetype": "text/x-python",
   "name": "python",
   "nbconvert_exporter": "python",
   "pygments_lexer": "ipython3",
   "version": "3.9.2"
  }
 },
 "nbformat": 4,
 "nbformat_minor": 1
}
